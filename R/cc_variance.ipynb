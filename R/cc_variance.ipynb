{
 "cells": [
  {
   "cell_type": "code",
   "execution_count": null,
   "metadata": {},
   "outputs": [],
   "source": [
    "library(yaml)\n",
    "library(tidyr)\n",
    "library(data.table)\n",
    "library(ggplot2)\n",
    "library(cowplot)\n",
    "\n",
    "theme_set(theme_cowplot())\n",
    "options(repr.plot.width=6, repr.plot.height=5)"
   ]
  },
  {
   "cell_type": "code",
   "execution_count": null,
   "metadata": {},
   "outputs": [],
   "source": [
    "config <- yaml.load_file(\"../config_small.yaml\")\n",
    "results <- fread(file.path(config$ROOT, \"cc_variance.csv\"))\n",
    "results <- separate(results, col = 'setting', sep = '/', c('scenario', 'analysis', 'scaling', 'feature_selection', 'method'))\n",
    "results <- separate(results, col = 'method', sep = '_', c('method', 'output_type'))"
   ]
  },
  {
   "cell_type": "code",
   "execution_count": null,
   "metadata": {},
   "outputs": [],
   "source": [
    "head(results)"
   ]
  },
  {
   "cell_type": "code",
   "execution_count": null,
   "metadata": {},
   "outputs": [],
   "source": [
    "ggplot(results, aes(method, score, col=method)) +\n",
    "    geom_boxplot() +\n",
    "    facet_wrap(.~feature_selection) +\n",
    "    labs(title=\"Cell cycle conservation score\") +\n",
    "    scale_color_brewer(palette = 'Dark2') +\n",
    "    theme(legend.position = 'none',\n",
    "          axis.text.x = element_text(angle=45, hjust=1))"
   ]
  },
  {
   "cell_type": "code",
   "execution_count": null,
   "metadata": {},
   "outputs": [],
   "source": [
    "ggplot(results, aes(before, after, col=scaling)) +\n",
    "    geom_point() + geom_abline() +\n",
    "    facet_wrap(.~feature_selection) +\n",
    "    labs(title=\"Cell cycle variance contribution before/after integration\") +\n",
    "    scale_color_brewer(palette = 'Set1') +\n",
    "    theme(legend.position = 'top')"
   ]
  },
  {
   "cell_type": "code",
   "execution_count": null,
   "metadata": {},
   "outputs": [],
   "source": [
    "ggplot(results[after>before], aes(before, after, col=scaling)) +\n",
    "    geom_point() + geom_abline() +\n",
    "    facet_wrap(.~feature_selection) +\n",
    "    scale_color_brewer(palette = 'Set1') +\n",
    "    theme(legend.position = 'top')"
   ]
  },
  {
   "cell_type": "code",
   "execution_count": null,
   "metadata": {},
   "outputs": [],
   "source": [
    "# Compare cc score with recomputation from variance contributions\n",
    "results[, lfc := (after/before)]\n",
    "results[, abs := 1 - (abs(before-after)/before)]\n",
    "results[, non_abs := ((before - (before-after))/before)]"
   ]
  },
  {
   "cell_type": "code",
   "execution_count": null,
   "metadata": {},
   "outputs": [],
   "source": [
    "head(results)"
   ]
  },
  {
   "cell_type": "code",
   "execution_count": null,
   "metadata": {},
   "outputs": [],
   "source": [
    "ggplot(results, aes(score, lfc, col=feature_selection)) +\n",
    "    geom_point() + geom_abline() +\n",
    "    facet_wrap(.~method) +\n",
    "    labs(x=\"cell cycle score\", y = \"variance ratio: after/before\",\n",
    "         title = \"Score comparison\") + \n",
    "    scale_color_brewer(palette = 'Dark2') +\n",
    "    theme(legend.position = 'top')"
   ]
  },
  {
   "cell_type": "code",
   "execution_count": null,
   "metadata": {},
   "outputs": [],
   "source": []
  }
 ],
 "metadata": {
  "kernelspec": {
   "display_name": "R",
   "language": "R",
   "name": "ir"
  },
  "language_info": {
   "codemirror_mode": "r",
   "file_extension": ".r",
   "mimetype": "text/x-r-source",
   "name": "R",
   "pygments_lexer": "r",
   "version": "3.5.1"
  }
 },
 "nbformat": 4,
 "nbformat_minor": 4
}
