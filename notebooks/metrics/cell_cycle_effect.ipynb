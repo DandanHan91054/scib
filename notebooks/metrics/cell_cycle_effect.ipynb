{
 "cells": [
  {
   "cell_type": "markdown",
   "metadata": {},
   "source": [
    "# Conservation of Cell Cycle effect\n",
    "Before vs. after integration"
   ]
  },
  {
   "cell_type": "code",
   "execution_count": 1,
   "metadata": {},
   "outputs": [
    {
     "name": "stdout",
     "output_type": "stream",
     "text": [
      "scanpy==1.4.4.post1 anndata==0.6.22.post1 umap==0.3.9 numpy==1.17.1 scipy==1.3.1 pandas==0.25.1 scikit-learn==0.20.4 statsmodels==0.10.1 python-igraph==0.7.1 louvain==0.6.1\n"
     ]
    }
   ],
   "source": [
    "import numpy as np\n",
    "import pandas as pd\n",
    "import matplotlib.pyplot as plt\n",
    "import scanpy as sc\n",
    "import scIB\n",
    "\n",
    "sc.settings.verbosity = 3 # verbosity: errors (0), warnings (1), info (2), hints (3)\n",
    "sc.logging.print_versions()\n",
    "import warnings\n",
    "warnings.filterwarnings('ignore')"
   ]
  },
  {
   "cell_type": "code",
   "execution_count": 2,
   "metadata": {},
   "outputs": [],
   "source": [
    "plt.rcParams['figure.figsize'] = 8,8"
   ]
  },
  {
   "cell_type": "code",
   "execution_count": 3,
   "metadata": {},
   "outputs": [],
   "source": [
    "adata_file = \"/storage/groups/ml01/workspace/group.daniela/MCA_normalised/Lung.h5ad\"\n",
    "adata_file = \"/storage/groups/ml01/workspace/group.daniela/tm/facs/norm/Limb_Muscle_raw.h5ad\"\n",
    "adata_file = \"/storage/groups/ml01/workspace/group.daniela/atlases_integrated/scanorama.h5ad\""
   ]
  },
  {
   "cell_type": "code",
   "execution_count": 4,
   "metadata": {},
   "outputs": [],
   "source": [
    "adata = sc.read(adata_file, cache=True)"
   ]
  },
  {
   "cell_type": "code",
   "execution_count": 5,
   "metadata": {},
   "outputs": [],
   "source": [
    "adata_pre = sc.read(\"/storage/groups/ml01/workspace/group.daniela/atlases_merged_anno_new.h5ad\")"
   ]
  },
  {
   "cell_type": "code",
   "execution_count": 6,
   "metadata": {},
   "outputs": [
    {
     "data": {
      "text/plain": [
       "AnnData object with n_obs × n_vars = 133340 × 2000 \n",
       "    obs: 'barcode', 'batch', 'cell_type', 'cell_type_union', 'channel', 'log_counts', 'marker_gene', 'n_counts', 'n_genes', 'percent_mito', 'sample', 'sample_id', 'sex', 'size_factors', 'study', 'tissue'\n",
       "    uns: 'mem', 'runtime'\n",
       "    obsm: 'X_emb'"
      ]
     },
     "execution_count": 6,
     "metadata": {},
     "output_type": "execute_result"
    }
   ],
   "source": [
    "adata"
   ]
  },
  {
   "cell_type": "code",
   "execution_count": 7,
   "metadata": {
    "collapsed": true,
    "jupyter": {
     "outputs_hidden": true,
     "source_hidden": true
    }
   },
   "outputs": [
    {
     "name": "stdout",
     "output_type": "stream",
     "text": [
      "HVG\n",
      "extracting highly variable genes\n",
      "    finished (0:00:08)\n",
      "--> added\n",
      "    'highly_variable', boolean vector (adata.var)\n",
      "    'means', float vector (adata.var)\n",
      "    'dispersions', float vector (adata.var)\n",
      "    'dispersions_norm', float vector (adata.var)\n",
      "Using 1998 HVGs from full intersect set\n",
      "Using 2 HVGs from n_batch-1 set\n",
      "Using 2000 HVGs\n",
      "Computed 2000 highly variable genes\n",
      "PCA\n",
      "computing PCA with n_comps = 50\n",
      "computing PCA on highly variable genes\n",
      "    finished (0:00:44)\n",
      "Nearest Neigbours\n",
      "computing neighbors\n"
     ]
    },
    {
     "name": "stderr",
     "output_type": "stream",
     "text": [
      "ERROR:root:Internal Python error in the inspect module.\n",
      "Below is the traceback from this internal error.\n",
      "\n"
     ]
    },
    {
     "name": "stdout",
     "output_type": "stream",
     "text": [
      "Traceback (most recent call last):\n",
      "  File \"/home/icb/michaela.mueller/miniconda3/envs/sc-tutorial/lib/python3.7/site-packages/IPython/core/interactiveshell.py\", line 3326, in run_code\n",
      "    exec(code_obj, self.user_global_ns, self.user_ns)\n",
      "  File \"<ipython-input-7-c1eb15e640ef>\", line 1, in <module>\n",
      "    scIB.preprocessing.reduce_data(adata, batch_key='study', pca=True, umap=True)\n",
      "  File \"/home/icb/michaela.mueller/workspace/Benchmarking_data_integration/scIB/preprocessing.py\", line 347, in reduce_data\n",
      "    sc.pp.neighbors(adata, use_rep=use_rep)\n",
      "  File \"/home/icb/michaela.mueller/miniconda3/envs/sc-tutorial/lib/python3.7/site-packages/scanpy/neighbors/__init__.py\", line 95, in neighbors\n",
      "    random_state=random_state,\n",
      "  File \"/home/icb/michaela.mueller/miniconda3/envs/sc-tutorial/lib/python3.7/site-packages/scanpy/neighbors/__init__.py\", line 669, in compute_neighbors\n",
      "    X, n_neighbors, random_state, metric=metric, metric_kwds=metric_kwds)\n",
      "  File \"/home/icb/michaela.mueller/miniconda3/envs/sc-tutorial/lib/python3.7/site-packages/scanpy/neighbors/__init__.py\", line 271, in compute_neighbors_umap\n",
      "    angular=angular, verbose=verbose,\n",
      "  File \"/home/icb/michaela.mueller/miniconda3/envs/sc-tutorial/lib/python3.7/site-packages/umap/umap_.py\", line 266, in nearest_neighbors\n",
      "    rp_forest = make_forest(X, n_neighbors, n_trees, rng_state, angular)\n",
      "  File \"/home/icb/michaela.mueller/miniconda3/envs/sc-tutorial/lib/python3.7/site-packages/umap/rp_tree.py\", line 719, in make_forest\n",
      "    for i in range(n_trees)\n",
      "  File \"/home/icb/michaela.mueller/miniconda3/envs/sc-tutorial/lib/python3.7/site-packages/umap/rp_tree.py\", line 719, in <listcomp>\n",
      "    for i in range(n_trees)\n",
      "  File \"/home/icb/michaela.mueller/miniconda3/envs/sc-tutorial/lib/python3.7/site-packages/umap/rp_tree.py\", line 577, in make_tree\n",
      "    return make_euclidean_tree(data, indices, rng_state, leaf_size)\n",
      "  File \"<string>\", line 1, in __new__\n",
      "KeyboardInterrupt\n",
      "\n",
      "During handling of the above exception, another exception occurred:\n",
      "\n",
      "Traceback (most recent call last):\n",
      "  File \"/home/icb/michaela.mueller/miniconda3/envs/sc-tutorial/lib/python3.7/site-packages/IPython/core/interactiveshell.py\", line 2040, in showtraceback\n",
      "    stb = value._render_traceback_()\n",
      "AttributeError: 'KeyboardInterrupt' object has no attribute '_render_traceback_'\n",
      "\n",
      "During handling of the above exception, another exception occurred:\n",
      "\n",
      "Traceback (most recent call last):\n",
      "  File \"/home/icb/michaela.mueller/miniconda3/envs/sc-tutorial/lib/python3.7/site-packages/IPython/core/ultratb.py\", line 1101, in get_records\n",
      "    return _fixed_getinnerframes(etb, number_of_lines_of_context, tb_offset)\n",
      "  File \"/home/icb/michaela.mueller/miniconda3/envs/sc-tutorial/lib/python3.7/site-packages/IPython/core/ultratb.py\", line 319, in wrapped\n",
      "    return f(*args, **kwargs)\n",
      "  File \"/home/icb/michaela.mueller/miniconda3/envs/sc-tutorial/lib/python3.7/site-packages/IPython/core/ultratb.py\", line 353, in _fixed_getinnerframes\n",
      "    records = fix_frame_records_filenames(inspect.getinnerframes(etb, context))\n",
      "  File \"/home/icb/michaela.mueller/miniconda3/envs/sc-tutorial/lib/python3.7/inspect.py\", line 1502, in getinnerframes\n",
      "    frameinfo = (tb.tb_frame,) + getframeinfo(tb, context)\n",
      "  File \"/home/icb/michaela.mueller/miniconda3/envs/sc-tutorial/lib/python3.7/inspect.py\", line 1460, in getframeinfo\n",
      "    filename = getsourcefile(frame) or getfile(frame)\n",
      "  File \"/home/icb/michaela.mueller/miniconda3/envs/sc-tutorial/lib/python3.7/inspect.py\", line 696, in getsourcefile\n",
      "    if getattr(getmodule(object, filename), '__loader__', None) is not None:\n",
      "  File \"/home/icb/michaela.mueller/miniconda3/envs/sc-tutorial/lib/python3.7/inspect.py\", line 739, in getmodule\n",
      "    f = getabsfile(module)\n",
      "  File \"/home/icb/michaela.mueller/miniconda3/envs/sc-tutorial/lib/python3.7/inspect.py\", line 708, in getabsfile\n",
      "    _filename = getsourcefile(object) or getfile(object)\n",
      "  File \"/home/icb/michaela.mueller/miniconda3/envs/sc-tutorial/lib/python3.7/inspect.py\", line 693, in getsourcefile\n",
      "    if os.path.exists(filename):\n",
      "  File \"/home/icb/michaela.mueller/miniconda3/envs/sc-tutorial/lib/python3.7/genericpath.py\", line 19, in exists\n",
      "    os.stat(path)\n",
      "KeyboardInterrupt\n"
     ]
    },
    {
     "ename": "KeyboardInterrupt",
     "evalue": "",
     "output_type": "error",
     "traceback": [
      "\u001b[0;31m---------------------------------------------------------------------------\u001b[0m"
     ]
    }
   ],
   "source": [
    "scIB.preprocessing.reduce_data(adata, batch_key='study', pca=True, umap=True)\n",
    "scIB.preprocessing.reduce_data(adata_pre, batch_key='study', pca=True, umap=True)"
   ]
  },
  {
   "cell_type": "code",
   "execution_count": null,
   "metadata": {
    "collapsed": true,
    "jupyter": {
     "outputs_hidden": true,
     "source_hidden": true
    }
   },
   "outputs": [
    {
     "name": "stdout",
     "output_type": "stream",
     "text": [
      "running Louvain clustering\n",
      "    using the \"louvain\" package of Traag (2017)\n",
      "    finished: found 20 clusters and added\n",
      "    'cluster', the cluster labels (adata.obs, categorical) (0:00:40)\n",
      "running Louvain clustering\n",
      "    using the \"louvain\" package of Traag (2017)\n",
      "    finished: found 29 clusters and added\n",
      "    'cluster', the cluster labels (adata.obs, categorical) (0:00:38)\n",
      "running Louvain clustering\n",
      "    using the \"louvain\" package of Traag (2017)\n",
      "    finished: found 36 clusters and added\n",
      "    'cluster', the cluster labels (adata.obs, categorical) (0:00:37)\n",
      "running Louvain clustering\n",
      "    using the \"louvain\" package of Traag (2017)\n",
      "    finished: found 43 clusters and added\n",
      "    'cluster', the cluster labels (adata.obs, categorical) (0:00:37)\n",
      "running Louvain clustering\n",
      "    using the \"louvain\" package of Traag (2017)\n",
      "    finished: found 43 clusters and added\n",
      "    'cluster', the cluster labels (adata.obs, categorical) (0:00:37)\n",
      "running Louvain clustering\n",
      "    using the \"louvain\" package of Traag (2017)\n",
      "    finished: found 48 clusters and added\n",
      "    'cluster', the cluster labels (adata.obs, categorical) (0:00:39)\n",
      "running Louvain clustering\n",
      "    using the \"louvain\" package of Traag (2017)\n",
      "    finished: found 50 clusters and added\n",
      "    'cluster', the cluster labels (adata.obs, categorical) (0:00:38)\n",
      "running Louvain clustering\n",
      "    using the \"louvain\" package of Traag (2017)\n",
      "    finished: found 50 clusters and added\n",
      "    'cluster', the cluster labels (adata.obs, categorical) (0:00:36)\n",
      "running Louvain clustering\n",
      "    using the \"louvain\" package of Traag (2017)\n",
      "    finished: found 54 clusters and added\n",
      "    'cluster', the cluster labels (adata.obs, categorical) (0:00:37)\n",
      "running Louvain clustering\n",
      "    using the \"louvain\" package of Traag (2017)\n",
      "    finished: found 58 clusters and added\n",
      "    'cluster', the cluster labels (adata.obs, categorical) (0:00:38)\n",
      "running Louvain clustering\n",
      "    using the \"louvain\" package of Traag (2017)\n",
      "    finished: found 60 clusters and added\n",
      "    'cluster', the cluster labels (adata.obs, categorical) (0:00:45)\n",
      "running Louvain clustering\n"
     ]
    }
   ],
   "source": [
    "opt_clus = scIB.clustering.opt_louvain(adata, label_key='cell_type_union', cluster_key='cluster', plot=True)"
   ]
  },
  {
   "cell_type": "code",
   "execution_count": null,
   "metadata": {
    "jupyter": {
     "source_hidden": true
    }
   },
   "outputs": [],
   "source": [
    "colums = ['cluster', 'tissue', 'sample']\n",
    "sc.pl.pca(adata, color=colums, palette=sc.pl.palettes.godsnot_64)\n",
    "sc.pl.umap(adata, color=colums, palette=sc.pl.palettes.godsnot_64)"
   ]
  },
  {
   "cell_type": "markdown",
   "metadata": {},
   "source": [
    "## Cell cycle effect"
   ]
  },
  {
   "cell_type": "code",
   "execution_count": 7,
   "metadata": {},
   "outputs": [
    {
     "name": "stdout",
     "output_type": "stream",
     "text": [
      "calculating cell cycle phase\n",
      "computing score 'S_score'\n",
      "    finished: added\n",
      "    'S_score', score of gene set (adata.obs) (0:02:11)\n",
      "computing score 'G2M_score'\n",
      "    finished: added\n",
      "    'G2M_score', score of gene set (adata.obs) (0:01:23)\n",
      "-->     'phase', cell cycle phase (adata.obs)\n",
      "computing PCA with n_comps = 50\n",
      "    finished (0:02:57)\n",
      "computing PCA with n_comps = 50\n",
      "    finished (0:00:26)\n",
      "computing PCA with n_comps = 50\n",
      "    finished (0:00:52)\n",
      "computing PCA with n_comps = 50\n",
      "    finished (0:00:08)\n",
      "computing PCA with n_comps = 50\n",
      "    finished (0:01:12)\n",
      "computing PCA with n_comps = 50\n",
      "    finished (0:00:11)\n"
     ]
    },
    {
     "data": {
      "text/plain": [
       "0.8144897584045546"
      ]
     },
     "execution_count": 7,
     "metadata": {},
     "output_type": "execute_result"
    }
   ],
   "source": [
    "scIB.metrics.cell_cycle(adata_pre, adata, batch_key='study')"
   ]
  },
  {
   "cell_type": "code",
   "execution_count": null,
   "metadata": {},
   "outputs": [],
   "source": []
  }
 ],
 "metadata": {
  "kernelspec": {
   "display_name": "Python 3",
   "language": "python",
   "name": "python3"
  },
  "language_info": {
   "codemirror_mode": {
    "name": "ipython",
    "version": 3
   },
   "file_extension": ".py",
   "mimetype": "text/x-python",
   "name": "python",
   "nbconvert_exporter": "python",
   "pygments_lexer": "ipython3",
   "version": "3.7.3"
  }
 },
 "nbformat": 4,
 "nbformat_minor": 4
}
